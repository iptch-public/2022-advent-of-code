{
 "cells": [
  {
   "cell_type": "code",
   "execution_count": 65,
   "id": "e5ce1756",
   "metadata": {},
   "outputs": [],
   "source": [
    "import numpy as np"
   ]
  },
  {
   "cell_type": "code",
   "execution_count": 66,
   "id": "b88a8534",
   "metadata": {},
   "outputs": [],
   "source": [
    "# with open('test_data.txt') as f:\n",
    "with open('data.txt') as f:\n",
    "    lines = f.read().splitlines()"
   ]
  },
  {
   "cell_type": "code",
   "execution_count": 67,
   "id": "29d96575",
   "metadata": {},
   "outputs": [],
   "source": [
    "def move_head(row, column, direction):\n",
    "    if direction == 'R':\n",
    "        column += 1\n",
    "    elif direction == 'L':\n",
    "        column -= 1\n",
    "    elif direction == 'D':\n",
    "        row += 1\n",
    "    elif direction == 'U':\n",
    "        row -= 1\n",
    "    return row, column"
   ]
  },
  {
   "cell_type": "code",
   "execution_count": 68,
   "id": "d6dd6283",
   "metadata": {},
   "outputs": [],
   "source": [
    "def move_tail(row_head, col_head, row_tail, col_tail):\n",
    "    row_delta = row_head - row_tail\n",
    "    col_delta = col_head - col_tail\n",
    "    if abs(row_delta) <= 1 and abs(col_delta) <= 1:\n",
    "        return row_tail, col_tail    \n",
    "    elif row_delta > 1:\n",
    "        if col_delta == 0:\n",
    "            return row_tail + 1, col_tail\n",
    "        elif col_delta == 1:\n",
    "            return row_tail + 1, col_tail + 1\n",
    "        elif col_delta == -1:\n",
    "            return row_tail + 1, col_tail - 1\n",
    "    elif row_delta < -1:\n",
    "        if col_delta == 0:\n",
    "            return row_tail - 1, col_tail\n",
    "        elif col_delta == 1:\n",
    "            return row_tail - 1, col_tail + 1\n",
    "        elif col_delta == -1:\n",
    "            return row_tail - 1, col_tail - 1\n",
    "    elif col_delta > 1:\n",
    "        if row_delta == 0:\n",
    "            return row_tail, col_tail + 1\n",
    "        elif row_delta == 1:\n",
    "            return row_tail + 1, col_tail + 1\n",
    "        elif row_delta == -1:\n",
    "            return row_tail - 1, col_tail + 1\n",
    "    elif col_delta < -1:\n",
    "        if row_delta == 0:\n",
    "            return row_tail, col_tail - 1\n",
    "        elif row_delta == 1:\n",
    "            return row_tail + 1, col_tail - 1\n",
    "        elif row_delta == -1:\n",
    "            return row_tail - 1, col_tail - 1\n"
   ]
  },
  {
   "cell_type": "code",
   "execution_count": 69,
   "id": "ce58f019",
   "metadata": {},
   "outputs": [
    {
     "data": {
      "text/plain": [
       "array([[0., 0., 0., ..., 0., 0., 0.],\n",
       "       [0., 0., 0., ..., 0., 0., 0.],\n",
       "       [0., 0., 0., ..., 0., 0., 0.],\n",
       "       ...,\n",
       "       [0., 0., 0., ..., 0., 0., 0.],\n",
       "       [0., 0., 0., ..., 0., 0., 0.],\n",
       "       [0., 0., 0., ..., 0., 0., 0.]])"
      ]
     },
     "metadata": {},
     "output_type": "display_data"
    },
    {
     "name": "stdout",
     "output_type": "stream",
     "text": [
      "Tainted fields: 6367.0\n"
     ]
    }
   ],
   "source": [
    "# initialize big enoug playing field, positioning init in the center\n",
    "row_head = 1000\n",
    "col_head = 1000\n",
    "m_tail = np.zeros((row_head * 2,col_head * 2))\n",
    "row_tail = row_head\n",
    "col_tail = col_head\n",
    "\n",
    "m_tail[row_tail, col_tail] = 1\n",
    "\n",
    "for l in lines:\n",
    "    direction, repetition = l.split()\n",
    "    for i in range(int(repetition)):\n",
    "        row_head, col_head = move_head(row_head, col_head, direction)\n",
    "        row_tail, col_tail = move_tail(row_head, col_head, row_tail, col_tail)\n",
    "        m_tail[row_tail, col_tail] = 1\n",
    "        \n",
    "display(m_tail)\n",
    "print(f'Tainted fields: {np.sum(m_tail)}')"
   ]
  },
  {
   "cell_type": "code",
   "execution_count": null,
   "id": "eac21896",
   "metadata": {},
   "outputs": [],
   "source": []
  },
  {
   "cell_type": "code",
   "execution_count": null,
   "id": "23b218ce",
   "metadata": {},
   "outputs": [],
   "source": []
  }
 ],
 "metadata": {
  "kernelspec": {
   "display_name": "Python 3 (ipykernel)",
   "language": "python",
   "name": "python3"
  },
  "language_info": {
   "codemirror_mode": {
    "name": "ipython",
    "version": 3
   },
   "file_extension": ".py",
   "mimetype": "text/x-python",
   "name": "python",
   "nbconvert_exporter": "python",
   "pygments_lexer": "ipython3",
   "version": "3.8.10"
  }
 },
 "nbformat": 4,
 "nbformat_minor": 5
}
